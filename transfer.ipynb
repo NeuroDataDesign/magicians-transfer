{
 "cells": [
  {
   "cell_type": "code",
   "execution_count": 11,
   "id": "065a7ea9-0875-431f-90ed-b4b88cff9790",
   "metadata": {},
   "outputs": [],
   "source": [
    "import pandas as pd\n",
    "import numpy as np\n",
    "from tqdm import tqdm\n",
    "from sklearn.metrics import accuracy_score\n",
    "from sklearn.ensemble import RandomForestClassifier\n",
    "from sklearn.model_selection import train_test_split\n",
    "from scipy import ndimage\n",
    "from sklearn.metrics import confusion_matrix, roc_auc_score, roc_curve\n",
    "from sklearn.model_selection import cross_val_score\n",
    "\n",
    "from proglearn.deciders import SimpleArgmaxAverage  # 投票决策（均值取最大）\n",
    "from proglearn.progressive_learner import ProgressiveLearner\n",
    "from proglearn.transformers import (\n",
    "    NeuralClassificationTransformer,    # 基于神经网络 -- SillyN\n",
    "    TreeClassificationTransformer,  # 基于决策树 -- SiilyF\n",
    ")\n",
    "from proglearn.voters import TreeClassificationVoter, KNNClassificationVoter\n",
    "\n"
   ]
  },
  {
   "cell_type": "markdown",
   "id": "ad12fadc-a1f7-4e15-8821-f21d7b520767",
   "metadata": {},
   "source": [
    "# Load data"
   ]
  },
  {
   "cell_type": "code",
   "execution_count": 12,
   "id": "f829c978-5ed9-40b9-8f43-71ef740c68ad",
   "metadata": {},
   "outputs": [
    {
     "name": "stderr",
     "output_type": "stream",
     "text": [
      "100%|███████████████████████████████████████████████████████████████████████████| 14465/14465 [00:44<00:00, 326.33it/s]\n",
      "100%|██████████████████████████████████████████████████████████████████████████████| 592/592 [00:00<00:00, 1005.58it/s]\n"
     ]
    }
   ],
   "source": [
    "df = pd.read_excel('Human.parcellated_thickness.xlsx')\n",
    "df.head()\n",
    "\n",
    "df_sex = pd.read_excel('subjects_age_sex_data_MRI.xlsx')\n",
    "df_sex.head()\n",
    "\n",
    "X1_human = []\n",
    "X2_human = []\n",
    "y_human = []\n",
    "IDs = set(df['sid'])\n",
    "ref_IDs = set(df_sex['ID'])\n",
    "\n",
    "# match sex and feature\n",
    "for subject in tqdm(IDs):\n",
    "    if subject in ref_IDs:\n",
    "        features = np.array(df[df['sid'] == subject]).reshape(-1)[2:]\n",
    "        gender = list(df_sex[df_sex['ID'] == subject]['Sex'])\n",
    "        sex = int(gender[0] == 'FEMALE')\n",
    "\n",
    "        X1_human.append(list(features[:182]))  # feature1(Markov)\n",
    "        X2_human.append(list(features[182:]))  # feature2(Scheafer)\n",
    "        y_human.append(sex)\n",
    "\n",
    "# switch to numpy array (easy in ML)\n",
    "X1_human = np.array(X1_human)\n",
    "X2_human = np.array(X2_human)\n",
    "y_human = np.array(y_human)\n",
    "\n",
    "df = pd.read_excel('Macaque.parcellated_thickness.xlsx')\n",
    "df.head()\n",
    "df_sex = pd.read_csv('uwmadison.csv')\n",
    "df_sex.head()\n",
    "X1_macaque = []\n",
    "X2_macaque = []\n",
    "y_macaque = []\n",
    "IDs = set(df['participant_id'])\n",
    "ref_IDs = set(df_sex['participant_id'])\n",
    "\n",
    "for subject in tqdm(IDs):\n",
    "    if subject in ref_IDs:\n",
    "        features = np.array(df[df['participant_id'] == subject]).reshape(-1)[4:]\n",
    "        gender = list(df_sex[df_sex['participant_id'] == subject]['sex'])\n",
    "        sex = int(gender[0] == 'F')\n",
    "\n",
    "        X1_macaque.append(list(features[:182]))\n",
    "        X2_macaque.append(list(features[182:]))\n",
    "        y_macaque.append(sex)\n",
    "\n",
    "X1_macaque = np.array(X1_macaque)\n",
    "X2_macaque = np.array(X2_macaque)\n",
    "y_macaque = np.array(y_macaque)\n",
    "\n",
    "valid_indices = ~np.isnan(X1_human).any(axis=1) & ~np.isnan(X2_human).any(axis=1)\n",
    "X1_human = X1_human[valid_indices]\n",
    "X2_human = X2_human[valid_indices]\n",
    "y_human= np.array(y_human)[valid_indices]\n",
    "\n",
    "valid_indices = ~np.isnan(X1_macaque).any(axis=1) & ~np.isnan(X2_macaque).any(axis=1)\n",
    "X1_macaque = X1_macaque[valid_indices]\n",
    "X2_macaque = X2_macaque[valid_indices]\n",
    "y_macaque= np.array(y_macaque)[valid_indices]"
   ]
  },
  {
   "cell_type": "markdown",
   "id": "f3c3becd-b476-48ae-9207-165f467a1c4d",
   "metadata": {},
   "source": [
    "# Naive RF\n",
    "## Directly"
   ]
  },
  {
   "cell_type": "code",
   "execution_count": 3,
   "id": "b256d1f1-2c31-4bbb-bc0f-7c0f6d6b9f9d",
   "metadata": {},
   "outputs": [
    {
     "name": "stderr",
     "output_type": "stream",
     "text": [
      "100%|████████████████████████████████████████████████████████████████████████████████████| 5/5 [00:58<00:00, 11.79s/it]"
     ]
    },
    {
     "name": "stdout",
     "output_type": "stream",
     "text": [
      "Accuracy is (Naive Markov)  0.4989510489510489\n"
     ]
    },
    {
     "name": "stderr",
     "output_type": "stream",
     "text": [
      "\n"
     ]
    }
   ],
   "source": [
    "# Markove\n",
    "reps = 5\n",
    "accuracy = 0.0\n",
    "\n",
    "for ii in tqdm(range(reps)):\n",
    "    x_train, x_test, y_train, y_test = train_test_split(\n",
    "                    X1_human, y_human, train_size=0.8, random_state=ii, stratify=y_human)\n",
    "    clf = RandomForestClassifier(n_estimators=1000, n_jobs=-1)\n",
    "    clf.fit(x_train,y_train)\n",
    "    accuracy += np.mean(clf.predict(X1_macaque)==y_macaque)\n",
    "\n",
    "print('Accuracy is (Naive Markov) ',accuracy/reps)"
   ]
  },
  {
   "cell_type": "code",
   "execution_count": 4,
   "id": "f1291283-1466-42d6-abfc-97498a0fbf82",
   "metadata": {},
   "outputs": [
    {
     "name": "stderr",
     "output_type": "stream",
     "text": [
      "100%|████████████████████████████████████████████████████████████████████████████████████| 5/5 [01:03<00:00, 12.79s/it]"
     ]
    },
    {
     "name": "stdout",
     "output_type": "stream",
     "text": [
      "Accuracy is (Naive Schaefer) 0.4951048951048951\n"
     ]
    },
    {
     "name": "stderr",
     "output_type": "stream",
     "text": [
      "\n"
     ]
    }
   ],
   "source": [
    "# Schaefer\n",
    "reps = 5\n",
    "accuracy = 0.0\n",
    "\n",
    "for ii in tqdm(range(reps)):\n",
    "    x_train, x_test, y_train, y_test = train_test_split(\n",
    "                    X2_human, y_human, train_size=0.8, random_state=ii, stratify=y_human)\n",
    "    clf = RandomForestClassifier(n_estimators=1000, n_jobs=-1)\n",
    "    clf.fit(x_train,y_train)\n",
    "    accuracy += np.mean(clf.predict(X2_macaque)==y_macaque)\n",
    "\n",
    "print('Accuracy is (Naive Schaefer)',accuracy/reps)"
   ]
  },
  {
   "cell_type": "markdown",
   "id": "076cc402-810b-4866-97ce-e2dd0c04b826",
   "metadata": {},
   "source": [
    "## Using macaque tuned"
   ]
  },
  {
   "cell_type": "code",
   "execution_count": 14,
   "id": "c2ff674d-6c1b-46bf-9a72-5b7b8266dd75",
   "metadata": {},
   "outputs": [
    {
     "name": "stderr",
     "output_type": "stream",
     "text": [
      "100%|████████████████████████████████████████████████████████████████████████████████████| 5/5 [03:01<00:00, 36.36s/it]"
     ]
    },
    {
     "name": "stdout",
     "output_type": "stream",
     "text": [
      "Accuracy is (Naive with tuning Markov)  0.6434782608695653\n"
     ]
    },
    {
     "name": "stderr",
     "output_type": "stream",
     "text": [
      "\n"
     ]
    }
   ],
   "source": [
    "# Markov\n",
    "reps = 5\n",
    "accuracy = 0.0\n",
    "\n",
    "for ii in tqdm(range(reps)):\n",
    "    x_train, x_test, y_train, y_test = train_test_split(\n",
    "                    X1_macaque, y_macaque, train_size=0.8, random_state=ii, stratify=y_macaque)\n",
    "    clf = RandomForestClassifier(n_estimators=1000, n_jobs=-1)\n",
    "    clf.fit(X1_human,y_human)\n",
    "    clf.fit(x_train, y_train)\n",
    "    accuracy += np.mean(clf.predict(x_test)==y_test)\n",
    "\n",
    "print('Accuracy is (Naive with tuning Markov) ',accuracy/reps)"
   ]
  },
  {
   "cell_type": "code",
   "execution_count": 15,
   "id": "c60a9295-a9b4-49f2-8642-d1741654f2b0",
   "metadata": {},
   "outputs": [
    {
     "name": "stderr",
     "output_type": "stream",
     "text": [
      "100%|████████████████████████████████████████████████████████████████████████████████████| 5/5 [03:10<00:00, 38.19s/it]"
     ]
    },
    {
     "name": "stdout",
     "output_type": "stream",
     "text": [
      "Accuracy is (Naive with tuning Schaefer)  0.6747826086956522\n"
     ]
    },
    {
     "name": "stderr",
     "output_type": "stream",
     "text": [
      "\n"
     ]
    }
   ],
   "source": [
    "# Schaefer\n",
    "reps = 5\n",
    "accuracy = 0.0\n",
    "\n",
    "for ii in tqdm(range(reps)):\n",
    "    x_train, x_test, y_train, y_test = train_test_split(\n",
    "                    X2_macaque, y_macaque, train_size=0.8, random_state=ii, stratify=y_macaque)\n",
    "    clf = RandomForestClassifier(n_estimators=1000, n_jobs=-1)\n",
    "    clf.fit(X2_human,y_human)\n",
    "    clf.fit(x_train, y_train)\n",
    "    accuracy += np.mean(clf.predict(x_test)==y_test)\n",
    "\n",
    "print('Accuracy is (Naive with tuning Schaefer) ',accuracy/reps)"
   ]
  },
  {
   "cell_type": "markdown",
   "id": "03b6ecce-ccad-4088-9c5a-77c657038bad",
   "metadata": {},
   "source": [
    "# Silly-F"
   ]
  },
  {
   "cell_type": "code",
   "execution_count": 19,
   "id": "1d01828d-55c1-4579-b81f-83f7d9ea7f45",
   "metadata": {},
   "outputs": [
    {
     "name": "stderr",
     "output_type": "stream",
     "text": [
      "100%|███████████████████████████████████████████████████████████████████████████████████| 5/5 [35:00<00:00, 420.10s/it]"
     ]
    },
    {
     "name": "stdout",
     "output_type": "stream",
     "text": [
      "Human and monkey accuracy (Silly-F Markov) 0.6173913043478261\n",
      "Only money accuracy (Silly-F Markov) 0.671304347826087\n"
     ]
    },
    {
     "name": "stderr",
     "output_type": "stream",
     "text": [
      "\n"
     ]
    }
   ],
   "source": [
    "# Markov\n",
    "default_transformer_class = TreeClassificationTransformer\n",
    "default_transformer_kwargs = {\n",
    "    \"kwargs\": {\"max_depth\": 30, \"max_features\": \"sqrt\"}\n",
    "}\n",
    "\n",
    "default_voter_class = TreeClassificationVoter\n",
    "default_voter_kwargs = {}\n",
    "\n",
    "default_decider_class = SimpleArgmaxAverage\n",
    "\n",
    "reps = 5\n",
    "accuracy1 = 0.0\n",
    "accuracy2 = 0.0\n",
    "\n",
    "for ii in tqdm(range(reps)):\n",
    "    x_train, x_test, y_train, y_test = train_test_split(\n",
    "                    X1_macaque, y_macaque, train_size=0.8, random_state=0, stratify=y_macaque)\n",
    "    \n",
    "    progressive_learner = ProgressiveLearner(\n",
    "    default_transformer_class=default_transformer_class,\n",
    "    default_transformer_kwargs=default_transformer_kwargs,\n",
    "    default_voter_class=default_voter_class,\n",
    "    default_voter_kwargs=default_voter_kwargs,\n",
    "    default_decider_class=default_decider_class,\n",
    "    )\n",
    "    \n",
    "    progressive_learner.add_task(\n",
    "                X=X1_human,\n",
    "                y=y_human,\n",
    "                task_id=0,\n",
    "                num_transformers=1000,\n",
    "                transformer_voter_decider_split=[0.67, 0.33, 0],\n",
    "                decider_kwargs={\n",
    "                    \"classes\": np.unique(\n",
    "                        y_human\n",
    "                    )\n",
    "                },\n",
    "            )\n",
    "\n",
    "    progressive_learner.add_task(\n",
    "                X=x_train,\n",
    "                y=y_train,\n",
    "                task_id=1,\n",
    "                num_transformers=1000,\n",
    "                transformer_voter_decider_split=[0.67, 0.33, 0],\n",
    "                decider_kwargs={\n",
    "                    \"classes\": np.unique(\n",
    "                        y_train\n",
    "                    )\n",
    "                },\n",
    "            )\n",
    "\n",
    "\n",
    "    multitask_label = progressive_learner.predict(x_test, task_id=1)\n",
    "    singletask_label = progressive_learner.predict(x_test, task_id=1, transformer_ids=[1])\n",
    "    accuracy1 += np.mean(multitask_label==y_test)\n",
    "    accuracy2 += np.mean(singletask_label==y_test)\n",
    "\n",
    "print('Human and monkey accuracy (Silly-F Markov)', accuracy1/reps) # 基于人和猴\n",
    "print('Only money accuracy (Silly-F Markov)', accuracy2/reps) # 只基于猴训练\n"
   ]
  },
  {
   "cell_type": "code",
   "execution_count": 20,
   "id": "5e7bf7ed-44da-419a-a1fa-8373bd32237a",
   "metadata": {},
   "outputs": [
    {
     "name": "stderr",
     "output_type": "stream",
     "text": [
      "100%|███████████████████████████████████████████████████████████████████████████████████| 5/5 [35:04<00:00, 420.91s/it]"
     ]
    },
    {
     "name": "stdout",
     "output_type": "stream",
     "text": [
      "Human and monkey accuracy (Silly-F Schaefer) 0.6173913043478261\n",
      "Only money accuracy (Silly-F Schaefer) 0.6156521739130435\n"
     ]
    },
    {
     "name": "stderr",
     "output_type": "stream",
     "text": [
      "\n"
     ]
    }
   ],
   "source": [
    "# Schaefer\n",
    "default_transformer_class = TreeClassificationTransformer\n",
    "default_transformer_kwargs = {\n",
    "    \"kwargs\": {\"max_depth\": 30, \"max_features\": \"sqrt\"}\n",
    "}\n",
    "\n",
    "default_voter_class = TreeClassificationVoter\n",
    "default_voter_kwargs = {}\n",
    "\n",
    "default_decider_class = SimpleArgmaxAverage\n",
    "\n",
    "reps = 5\n",
    "accuracy1 = 0.0\n",
    "accuracy2 = 0.0\n",
    "\n",
    "for ii in tqdm(range(reps)):\n",
    "    x_train, x_test, y_train, y_test = train_test_split(\n",
    "                    X2_macaque, y_macaque, train_size=0.8, random_state=0, stratify=y_macaque)\n",
    "\n",
    "    progressive_learner = ProgressiveLearner(\n",
    "    default_transformer_class=default_transformer_class,\n",
    "    default_transformer_kwargs=default_transformer_kwargs,\n",
    "    default_voter_class=default_voter_class,\n",
    "    default_voter_kwargs=default_voter_kwargs,\n",
    "    default_decider_class=default_decider_class,\n",
    "    )\n",
    "\n",
    "    \n",
    "    progressive_learner.add_task(\n",
    "                X=X2_human,\n",
    "                y=y_human,\n",
    "                task_id=0,\n",
    "                num_transformers=1000,\n",
    "                transformer_voter_decider_split=[0.67, 0.33, 0],\n",
    "                decider_kwargs={\n",
    "                    \"classes\": np.unique(\n",
    "                        y_human\n",
    "                    )\n",
    "                },\n",
    "            )\n",
    "\n",
    "    progressive_learner.add_task(\n",
    "                X=x_train,\n",
    "                y=y_train,\n",
    "                task_id=1,\n",
    "                num_transformers=1000,\n",
    "                transformer_voter_decider_split=[0.67, 0.33, 0],\n",
    "                decider_kwargs={\n",
    "                    \"classes\": np.unique(\n",
    "                        y_train\n",
    "                    )\n",
    "                },\n",
    "            )\n",
    "\n",
    "\n",
    "    multitask_label = progressive_learner.predict(x_test, task_id=1)\n",
    "    singletask_label = progressive_learner.predict(x_test, task_id=1, transformer_ids=[1])\n",
    "    accuracy1 += np.mean(multitask_label==y_test)\n",
    "    accuracy2 += np.mean(singletask_label==y_test)\n",
    "\n",
    "\n",
    "print('Human and monkey accuracy (Silly-F Schaefer)', accuracy1/reps) \n",
    "print('Only money accuracy (Silly-F Schaefer)', accuracy2/reps) "
   ]
  },
  {
   "cell_type": "code",
   "execution_count": 25,
   "id": "9663192e-4b48-4af1-af38-0fe75b365006",
   "metadata": {},
   "outputs": [
    {
     "name": "stderr",
     "output_type": "stream",
     "text": [
      "100%|███████████████████████████████████████████████████████████████████████████████████| 5/5 [44:32<00:00, 534.45s/it]"
     ]
    },
    {
     "name": "stdout",
     "output_type": "stream",
     "text": [
      "Human and monkey accuracy (Silly-F both) 0.6191304347826087\n",
      "Only money accuracy (Silly-F both) 0.6313043478260869\n"
     ]
    },
    {
     "name": "stderr",
     "output_type": "stream",
     "text": [
      "\n"
     ]
    }
   ],
   "source": [
    "# both\n",
    "default_transformer_class = TreeClassificationTransformer\n",
    "default_transformer_kwargs = {\n",
    "    \"kwargs\": {\"max_depth\": 30, \"max_features\": \"sqrt\"}\n",
    "}\n",
    "\n",
    "default_voter_class = TreeClassificationVoter\n",
    "default_voter_kwargs = {}\n",
    "\n",
    "default_decider_class = SimpleArgmaxAverage\n",
    "\n",
    "reps = 5\n",
    "accuracy1 = 0.0\n",
    "accuracy2 = 0.0\n",
    "\n",
    "for ii in tqdm(range(reps)):\n",
    "    x_train, x_test, y_train, y_test = train_test_split(\n",
    "                    np.hstack((X1_macaque, X2_macaque)), y_macaque, train_size=0.8, random_state=0, stratify=y_macaque)\n",
    "\n",
    "    progressive_learner = ProgressiveLearner(\n",
    "    default_transformer_class=default_transformer_class,\n",
    "    default_transformer_kwargs=default_transformer_kwargs,\n",
    "    default_voter_class=default_voter_class,\n",
    "    default_voter_kwargs=default_voter_kwargs,\n",
    "    default_decider_class=default_decider_class,\n",
    "    )\n",
    "\n",
    "    \n",
    "    progressive_learner.add_task(\n",
    "                X=np.hstack((X1_human,X2_human)),\n",
    "                y=y_human,\n",
    "                task_id=0,\n",
    "                num_transformers=1000,\n",
    "                transformer_voter_decider_split=[0.67, 0.33, 0],\n",
    "                decider_kwargs={\n",
    "                    \"classes\": np.unique(\n",
    "                        y_human\n",
    "                    )\n",
    "                },\n",
    "            )\n",
    "\n",
    "    progressive_learner.add_task(\n",
    "                X=x_train,\n",
    "                y=y_train,\n",
    "                task_id=1,\n",
    "                num_transformers=1000,\n",
    "                transformer_voter_decider_split=[0.67, 0.33, 0],\n",
    "                decider_kwargs={\n",
    "                    \"classes\": np.unique(\n",
    "                        y_train\n",
    "                    )\n",
    "                },\n",
    "            )\n",
    "\n",
    "\n",
    "    multitask_label = progressive_learner.predict(x_test, task_id=1)\n",
    "    singletask_label = progressive_learner.predict(x_test, task_id=1, transformer_ids=[1])\n",
    "    accuracy1 += np.mean(multitask_label==y_test)\n",
    "    accuracy2 += np.mean(singletask_label==y_test)\n",
    "\n",
    "\n",
    "print('Human and monkey accuracy (Silly-F both)', accuracy1/reps) \n",
    "print('Only money accuracy (Silly-F both)', accuracy2/reps) "
   ]
  },
  {
   "cell_type": "markdown",
   "id": "a0d6493d-887d-4de5-9587-14e53fe5377d",
   "metadata": {},
   "source": [
    "# Silly-N"
   ]
  },
  {
   "cell_type": "code",
   "execution_count": null,
   "id": "e5d068e0-90d3-404b-9c06-cf6a81c05a61",
   "metadata": {},
   "outputs": [],
   "source": [
    "from proglearn import LifelongClassificationNetwork\n",
    "# proglearn.LifelongClassificationNetwork(network, loss='categorical_crossentropy', \n",
    "# optimizer=<keras.optimizer_v2.adam.Adam object>, epochs=100, batch_size=32, verbose=False, \n",
    "# default_network_construction_proportion=0.67)\n"
   ]
  },
  {
   "cell_type": "code",
   "execution_count": null,
   "id": "4b74bd37-3b17-42b6-b4cf-152abb5dd3c4",
   "metadata": {},
   "outputs": [],
   "source": []
  }
 ],
 "metadata": {
  "kernelspec": {
   "display_name": "general",
   "language": "python",
   "name": "general"
  },
  "language_info": {
   "codemirror_mode": {
    "name": "ipython",
    "version": 3
   },
   "file_extension": ".py",
   "mimetype": "text/x-python",
   "name": "python",
   "nbconvert_exporter": "python",
   "pygments_lexer": "ipython3",
   "version": "3.12.7"
  }
 },
 "nbformat": 4,
 "nbformat_minor": 5
}
